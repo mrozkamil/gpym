{
 "cells": [
  {
   "cell_type": "markdown",
   "metadata": {},
   "source": [
    "Loading necessary modules"
   ]
  },
  {
   "cell_type": "code",
   "execution_count": null,
   "metadata": {},
   "outputs": [],
   "source": [
    "import os, sys\n",
    "import numpy as np\n",
    "import matplotlib.pyplot as plt\n",
    "from matplotlib.colors import LogNorm\n",
    "from xhistogram.xarray import histogram as xhist\n",
    "from datetime import datetime\n",
    "import xarray as xr\n",
    "from scipy.optimize import minimize\n",
    "home = os.path.expanduser(\"~\")\n",
    "sys.path.append(os.path.join(home, 'Scripts','Python3', 'gpym'))\n",
    "from gpym.GPM import DPR\n",
    "\n",
    "from gpym.retrieve import OE\n",
    "from gpym import representation\n",
    "from gpym import misc\n",
    "\n",
    "import timeit\n",
    "import warnings\n",
    "warnings.filterwarnings('ignore')\n",
    "\n",
    "\n",
    "from cartopy.mpl.ticker import LongitudeFormatter, LatitudeFormatter\n",
    "lon_formatter = LongitudeFormatter(zero_direction_label=True)\n",
    "lat_formatter = LatitudeFormatter()\n"
   ]
  },
  {
   "cell_type": "markdown",
   "metadata": {},
   "source": []
  }
 ],
 "metadata": {
  "language_info": {
   "name": "python"
  }
 },
 "nbformat": 4,
 "nbformat_minor": 2
}
